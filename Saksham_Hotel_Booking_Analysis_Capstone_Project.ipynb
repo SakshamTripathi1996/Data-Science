{
  "nbformat": 4,
  "nbformat_minor": 0,
  "metadata": {
    "kernelspec": {
      "display_name": "Python 3",
      "language": "python",
      "name": "python3"
    },
    "language_info": {
      "codemirror_mode": {
        "name": "ipython",
        "version": 3
      },
      "file_extension": ".py",
      "mimetype": "text/x-python",
      "name": "python",
      "nbconvert_exporter": "python",
      "pygments_lexer": "ipython3",
      "version": "3.6.6"
    },
    "colab": {
      "name": "Saksham Hotel Booking Analysis - Capstone Project.ipynb",
      "provenance": [],
      "collapsed_sections": [],
      "include_colab_link": true
    }
  },
  "cells": [
    {
      "cell_type": "markdown",
      "metadata": {
        "id": "view-in-github",
        "colab_type": "text"
      },
      "source": [
        "<a href=\"https://colab.research.google.com/github/SakshamTripathi1996/Data-Science/blob/main/Saksham_Hotel_Booking_Analysis_Capstone_Project.ipynb\" target=\"_parent\"><img src=\"https://colab.research.google.com/assets/colab-badge.svg\" alt=\"Open In Colab\"/></a>"
      ]
    },
    {
      "cell_type": "markdown",
      "metadata": {
        "id": "Y06xIdG26kRF"
      },
      "source": [
        "## <b> Have you ever wondered when the best time of year to book a hotel room is? Or the optimal length of stay in order to get the best daily rate? What if you wanted to predict whether or not a hotel was likely to receive a disproportionately high number of special requests? This hotel booking dataset can help you explore those questions!\n",
        "\n",
        "## <b>This data set contains booking information for a city hotel and a resort hotel, and includes information such as when the booking was made, length of stay, the number of adults, children, and/or babies, and the number of available parking spaces, among other things. All personally identifying information has been removed from the data. </b>\n",
        "\n",
        "## <b> Explore and analyze the data to discover important factors that govern the bookings. </b>"
      ]
    },
    {
      "cell_type": "code",
      "metadata": {
        "id": "dByMsuzT8Tnw"
      },
      "source": [
        "# Improting Important Libraries\n",
        "\n",
        "import pandas as pd\n",
        "import numpy as np\n",
        "import datetime \n",
        "from time import strftime\n",
        "import matplotlib.pyplot as plt\n",
        "%matplotlib inline\n",
        "import seaborn as sns\n",
        "\n",
        "\n"
      ],
      "execution_count": 1,
      "outputs": []
    },
    {
      "cell_type": "code",
      "source": [
        "# Mounting Drive\n",
        "from google.colab import drive\n",
        "drive.mount('/content/drive')"
      ],
      "metadata": {
        "id": "D329nrQKVT66",
        "outputId": "95dddd83-1847-4e0f-f153-566911e8fcea",
        "colab": {
          "base_uri": "https://localhost:8080/"
        }
      },
      "execution_count": 2,
      "outputs": [
        {
          "output_type": "stream",
          "name": "stdout",
          "text": [
            "Mounted at /content/drive\n"
          ]
        }
      ]
    },
    {
      "cell_type": "code",
      "source": [
        "# Importing Data\n",
        "data=pd.read_csv('/content/drive/MyDrive/Copy of Hotel Bookings.csv')"
      ],
      "metadata": {
        "id": "FkM2E2qqVamM"
      },
      "execution_count": 3,
      "outputs": []
    },
    {
      "cell_type": "code",
      "source": [
        "data.info()"
      ],
      "metadata": {
        "id": "uYAeAEtgVofV",
        "outputId": "c7bd135e-339e-4595-c67e-083d93089e33",
        "colab": {
          "base_uri": "https://localhost:8080/"
        }
      },
      "execution_count": 142,
      "outputs": [
        {
          "output_type": "stream",
          "name": "stdout",
          "text": [
            "<class 'pandas.core.frame.DataFrame'>\n",
            "Int64Index: 79069 entries, 0 to 119389\n",
            "Data columns (total 33 columns):\n",
            " #   Column                          Non-Null Count  Dtype         \n",
            "---  ------                          --------------  -----         \n",
            " 0   hotel                           79069 non-null  object        \n",
            " 1   is_canceled                     79069 non-null  int64         \n",
            " 2   lead_time                       79069 non-null  int64         \n",
            " 3   arrival_date_year               79069 non-null  int64         \n",
            " 4   arrival_date_month              79069 non-null  object        \n",
            " 5   arrival_date_week_number        79069 non-null  int64         \n",
            " 6   arrival_date_day_of_month       79069 non-null  int64         \n",
            " 7   stays_in_weekend_nights         79069 non-null  int64         \n",
            " 8   stays_in_week_nights            79069 non-null  int64         \n",
            " 9   adults                          79069 non-null  int64         \n",
            " 10  children                        79069 non-null  int64         \n",
            " 11  babies                          79069 non-null  int64         \n",
            " 12  meal                            79069 non-null  object        \n",
            " 13  country                         79069 non-null  object        \n",
            " 14  market_segment                  79069 non-null  object        \n",
            " 15  distribution_channel            79069 non-null  object        \n",
            " 16  is_repeated_guest               79069 non-null  int64         \n",
            " 17  previous_cancellations          79069 non-null  int64         \n",
            " 18  previous_bookings_not_canceled  79069 non-null  int64         \n",
            " 19  reserved_room_type              79069 non-null  object        \n",
            " 20  assigned_room_type              79069 non-null  object        \n",
            " 21  booking_changes                 79069 non-null  int64         \n",
            " 22  deposit_type                    79069 non-null  object        \n",
            " 23  agent                           79069 non-null  int64         \n",
            " 24  company                         79069 non-null  int64         \n",
            " 25  days_in_waiting_list            79069 non-null  int64         \n",
            " 26  customer_type                   79069 non-null  object        \n",
            " 27  Average_day_Rate                79069 non-null  float64       \n",
            " 28  required_car_parking_spaces     79069 non-null  int64         \n",
            " 29  total_of_special_requests       79069 non-null  int64         \n",
            " 30  reservation_status              79069 non-null  object        \n",
            " 31  reservation_status_date         79069 non-null  datetime64[ns]\n",
            " 32  Target                          79069 non-null  int64         \n",
            "dtypes: datetime64[ns](1), float64(1), int64(20), object(11)\n",
            "memory usage: 22.5+ MB\n"
          ]
        }
      ]
    },
    {
      "cell_type": "code",
      "source": [
        "# changing dtype to its correct dtype\n",
        "data['reservation_status_date']=pd.to_datetime(data['reservation_status_date']).dt.date.astype('datetime64[ns]')\n",
        "data['children']=data['children'].astype(int)\n",
        "data['company']=data['company'].astype(int)\n",
        "data['agent']=data['agent'].astype(int)"
      ],
      "metadata": {
        "id": "h5blVOrFXMn8"
      },
      "execution_count": 141,
      "outputs": []
    },
    {
      "cell_type": "markdown",
      "source": [
        ""
      ],
      "metadata": {
        "id": "Hr8hPrc2VDkM"
      }
    },
    {
      "cell_type": "code",
      "source": [
        "data.shape"
      ],
      "metadata": {
        "id": "Yepbmky9ac7C",
        "outputId": "39a1cf73-1a8d-40e3-e459-d39239373971",
        "colab": {
          "base_uri": "https://localhost:8080/"
        }
      },
      "execution_count": null,
      "outputs": [
        {
          "output_type": "execute_result",
          "data": {
            "text/plain": [
              "(119390, 32)"
            ]
          },
          "metadata": {},
          "execution_count": 17
        }
      ]
    },
    {
      "cell_type": "code",
      "source": [
        "# Changing Column names \n",
        "data=data.rename(columns={'adr':'Average_day_Rate'})"
      ],
      "metadata": {
        "id": "5TdmtZPsoCgq"
      },
      "execution_count": 97,
      "outputs": []
    },
    {
      "cell_type": "code",
      "source": [
        "#bb-bed and breakfast\n",
        "#hb-half board-breakfast and dinner\n",
        "#fb-full board -linch breakfat dinner\n",
        "#sc-self catering - no meals"
      ],
      "metadata": {
        "id": "iRERIrHkzn8y"
      },
      "execution_count": null,
      "outputs": []
    },
    {
      "cell_type": "code",
      "source": [
        "# Filling Null Values\n",
        "nullv={'children':0,'agent':0,'country':'unknown','company':0}\n",
        "data=data.fillna(nullv)"
      ],
      "metadata": {
        "id": "B7FymzWHj9nh"
      },
      "execution_count": 62,
      "outputs": []
    },
    {
      "cell_type": "code",
      "source": [
        "'''Univariate Analysis\n",
        "1. Which agent made most of bookings\n",
        "2.Which Room Type is in most demands and which room type generate highest adr?\n",
        "3.From which country most of the customers comming?\n",
        "4.what is the most preferred meal by customers?'''\n"
      ],
      "metadata": {
        "colab": {
          "base_uri": "https://localhost:8080/",
          "height": 53
        },
        "id": "rycgXg5RPgv_",
        "outputId": "7aac450d-948f-46fe-ac96-ad5c4bbaf7b1"
      },
      "execution_count": 69,
      "outputs": [
        {
          "output_type": "execute_result",
          "data": {
            "text/plain": [
              "'Univariate Analysis\\n1. Which agent made most of bookings\\n2.Which Room Type is in most demands and which room type generate highest adr?\\n3.From which country most of the customers comming?\\n4.what is the most preferred meal by customers?'"
            ],
            "application/vnd.google.colaboratory.intrinsic+json": {
              "type": "string"
            }
          },
          "metadata": {},
          "execution_count": 69
        }
      ]
    },
    {
      "cell_type": "code",
      "source": [
        "# Dropping Duplicates\n",
        "data.duplicated().value_counts()\n",
        "data.drop_duplicates(keep=False,inplace=True)"
      ],
      "metadata": {
        "colab": {
          "base_uri": "https://localhost:8080/"
        },
        "id": "AIjqDQOIZga_",
        "outputId": "e3bb7e01-1732-40b5-f461-a7dd5421f22c"
      },
      "execution_count": 81,
      "outputs": [
        {
          "output_type": "execute_result",
          "data": {
            "text/plain": [
              "False    87396\n",
              "True     31994\n",
              "dtype: int64"
            ]
          },
          "metadata": {},
          "execution_count": 81
        }
      ]
    },
    {
      "cell_type": "markdown",
      "source": [
        "Dropping Columns"
      ],
      "metadata": {
        "id": "G0Q4jUQ58aub"
      }
    },
    {
      "cell_type": "code",
      "source": [
        "# Dropping Data which  does not make any sense.\n",
        "data[data['children']+data['babies']+data['adults']==0].shape\n",
        "data.drop(data[data['children']+data['babies']+data['adults']==0].index,inplace=True)"
      ],
      "metadata": {
        "id": "9zzFn4FJeAb9"
      },
      "execution_count": 109,
      "outputs": []
    },
    {
      "cell_type": "markdown",
      "source": [
        "From which country most guests come?"
      ],
      "metadata": {
        "id": "_RoziOEH8yHu"
      }
    },
    {
      "cell_type": "code",
      "source": [
        "a=data.groupby('country')['hotel'].count().sort_index(ascending=True)"
      ],
      "metadata": {
        "id": "lc6RbOP-8xGE"
      },
      "execution_count": 136,
      "outputs": []
    },
    {
      "cell_type": "code",
      "source": [
        "data[['country','hotel']].value_counts()"
      ],
      "metadata": {
        "colab": {
          "base_uri": "https://localhost:8080/"
        },
        "id": "3WpDtemV5aLQ",
        "outputId": "fd4ef1b2-d645-4e01-f984-aa48b904a288"
      },
      "execution_count": 125,
      "outputs": [
        {
          "output_type": "execute_result",
          "data": {
            "text/plain": [
              "country  hotel       \n",
              "PRT      Resort Hotel    13181\n",
              "         City Hotel      10992\n",
              "FRA      City Hotel       6763\n",
              "GBR      Resort Hotel     5451\n",
              "         City Hotel       4097\n",
              "                         ...  \n",
              "PLW      Resort Hotel        1\n",
              "FJI      Resort Hotel        1\n",
              "SYR      Resort Hotel        1\n",
              "TGO      City Hotel          1\n",
              "KIR      City Hotel          1\n",
              "Length: 290, dtype: int64"
            ]
          },
          "metadata": {},
          "execution_count": 125
        }
      ]
    },
    {
      "cell_type": "code",
      "source": [
        "\n",
        "data.groupby('country').size().sort_values(ascending=False)[:10]\n"
      ],
      "metadata": {
        "colab": {
          "base_uri": "https://localhost:8080/"
        },
        "id": "VnuQUNDYAPEp",
        "outputId": "38cdd031-2d58-4e31-ea97-c289ba32e975"
      },
      "execution_count": 170,
      "outputs": [
        {
          "output_type": "execute_result",
          "data": {
            "text/plain": [
              "country\n",
              "PRT    24173\n",
              "GBR     9548\n",
              "FRA     8092\n",
              "ESP     6717\n",
              "DEU     4793\n",
              "IRL     2845\n",
              "ITA     2730\n",
              "BEL     1905\n",
              "BRA     1838\n",
              "NLD     1771\n",
              "dtype: int64"
            ]
          },
          "metadata": {},
          "execution_count": 170
        }
      ]
    },
    {
      "cell_type": "code",
      "source": [
        ""
      ],
      "metadata": {
        "id": "y8WQla1kCTJ4"
      },
      "execution_count": 170,
      "outputs": []
    },
    {
      "cell_type": "code",
      "source": [
        ""
      ],
      "metadata": {
        "id": "oUfkK49oCnhZ"
      },
      "execution_count": null,
      "outputs": []
    }
  ]
}