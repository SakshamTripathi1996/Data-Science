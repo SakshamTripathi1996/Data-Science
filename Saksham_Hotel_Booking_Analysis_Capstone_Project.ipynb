{
  "nbformat": 4,
  "nbformat_minor": 0,
  "metadata": {
    "kernelspec": {
      "display_name": "Python 3",
      "language": "python",
      "name": "python3"
    },
    "language_info": {
      "codemirror_mode": {
        "name": "ipython",
        "version": 3
      },
      "file_extension": ".py",
      "mimetype": "text/x-python",
      "name": "python",
      "nbconvert_exporter": "python",
      "pygments_lexer": "ipython3",
      "version": "3.6.6"
    },
    "colab": {
      "name": "Saksham Hotel Booking Analysis - Capstone Project.ipynb",
      "provenance": [],
      "collapsed_sections": [],
      "include_colab_link": true
    }
  },
  "cells": [
    {
      "cell_type": "markdown",
      "metadata": {
        "id": "view-in-github",
        "colab_type": "text"
      },
      "source": [
        "<a href=\"https://colab.research.google.com/github/SakshamTripathi1996/Data-Science/blob/main/Saksham_Hotel_Booking_Analysis_Capstone_Project.ipynb\" target=\"_parent\"><img src=\"https://colab.research.google.com/assets/colab-badge.svg\" alt=\"Open In Colab\"/></a>"
      ]
    },
    {
      "cell_type": "markdown",
      "source": [
        "# **Problem Statement**"
      ],
      "metadata": {
        "id": "d5uHd_5Qoxl-"
      }
    },
    {
      "cell_type": "markdown",
      "metadata": {
        "id": "Y06xIdG26kRF"
      },
      "source": [
        "  Have you ever wondered when the best time of year to book a hotel room is? Or the optimal length of stay in order to get the best daily rate? What if you wanted to predict whether or not a hotel was likely to receive a disproportionately high number of special requests? This hotel booking dataset can help you explore those questions!\n",
        "\n",
        " This data set contains booking information for a city hotel and a resort hotel, and includes information such as when the booking was made, length of stay, the number of adults, children, and/or babies, and the number of available parking spaces, among other things. All personally identifying information has been removed from the data.Explore and analyze the data to discover important factors that govern the bookings. "
      ]
    },
    {
      "cell_type": "markdown",
      "source": [
        "#                  **EDA on Hotel Booking**"
      ],
      "metadata": {
        "id": "73JpbmeomUgI"
      }
    },
    {
      "cell_type": "markdown",
      "source": [
        "# Improting Libraries\n"
      ],
      "metadata": {
        "id": "F7r8h-jFms1q"
      }
    },
    {
      "cell_type": "code",
      "metadata": {
        "id": "dByMsuzT8Tnw"
      },
      "source": [
        "import pandas as pd\n",
        "import numpy as np\n",
        "import datetime \n",
        "from time import strftime\n",
        "import matplotlib.pyplot as plt\n",
        "%matplotlib inline\n",
        "import seaborn as sns\n",
        "\n",
        "\n"
      ],
      "execution_count": 1,
      "outputs": []
    },
    {
      "cell_type": "markdown",
      "source": [
        "#Mounting Drive"
      ],
      "metadata": {
        "id": "ZmAVcfXJnNHf"
      }
    },
    {
      "cell_type": "code",
      "source": [
        "from google.colab import drive\n",
        "drive.mount('/content/drive')"
      ],
      "metadata": {
        "id": "D329nrQKVT66",
        "outputId": "7fb87d8f-1f32-4aad-e644-bf4be72553a1",
        "colab": {
          "base_uri": "https://localhost:8080/"
        }
      },
      "execution_count": 2,
      "outputs": [
        {
          "output_type": "stream",
          "name": "stdout",
          "text": [
            "Mounted at /content/drive\n"
          ]
        }
      ]
    },
    {
      "cell_type": "markdown",
      "source": [
        "#Importing Data"
      ],
      "metadata": {
        "id": "hMtabS0GtMbc"
      }
    },
    {
      "cell_type": "code",
      "source": [
        "data=pd.read_csv('/content/drive/MyDrive/Copy of Hotel Bookings.csv')"
      ],
      "metadata": {
        "id": "FkM2E2qqVamM"
      },
      "execution_count": 3,
      "outputs": []
    },
    {
      "cell_type": "markdown",
      "source": [
        "# Exploring Dataset"
      ],
      "metadata": {
        "id": "xO9I3n1UtWEQ"
      }
    },
    {
      "cell_type": "markdown",
      "source": [
        "No of Rows and Columns"
      ],
      "metadata": {
        "id": "sKVnOKqltm5U"
      }
    },
    {
      "cell_type": "code",
      "source": [
        "data.shape"
      ],
      "metadata": {
        "colab": {
          "base_uri": "https://localhost:8080/"
        },
        "id": "muAQCYVAtjnV",
        "outputId": "965afd48-27d0-42d7-db02-875ccf12183d"
      },
      "execution_count": 24,
      "outputs": [
        {
          "output_type": "execute_result",
          "data": {
            "text/plain": [
              "(79069, 31)"
            ]
          },
          "metadata": {},
          "execution_count": 24
        }
      ]
    },
    {
      "cell_type": "markdown",
      "source": [
        "Information of Dataset"
      ],
      "metadata": {
        "id": "OeGC_mS2ttFP"
      }
    },
    {
      "cell_type": "code",
      "source": [
        "data.info()"
      ],
      "metadata": {
        "id": "uYAeAEtgVofV",
        "outputId": "6e9e4d4d-e8bd-4061-cdee-a224d0212f79",
        "colab": {
          "base_uri": "https://localhost:8080/"
        }
      },
      "execution_count": 4,
      "outputs": [
        {
          "output_type": "stream",
          "name": "stdout",
          "text": [
            "<class 'pandas.core.frame.DataFrame'>\n",
            "RangeIndex: 119390 entries, 0 to 119389\n",
            "Data columns (total 32 columns):\n",
            " #   Column                          Non-Null Count   Dtype  \n",
            "---  ------                          --------------   -----  \n",
            " 0   hotel                           119390 non-null  object \n",
            " 1   is_canceled                     119390 non-null  int64  \n",
            " 2   lead_time                       119390 non-null  int64  \n",
            " 3   arrival_date_year               119390 non-null  int64  \n",
            " 4   arrival_date_month              119390 non-null  object \n",
            " 5   arrival_date_week_number        119390 non-null  int64  \n",
            " 6   arrival_date_day_of_month       119390 non-null  int64  \n",
            " 7   stays_in_weekend_nights         119390 non-null  int64  \n",
            " 8   stays_in_week_nights            119390 non-null  int64  \n",
            " 9   adults                          119390 non-null  int64  \n",
            " 10  children                        119386 non-null  float64\n",
            " 11  babies                          119390 non-null  int64  \n",
            " 12  meal                            119390 non-null  object \n",
            " 13  country                         118902 non-null  object \n",
            " 14  market_segment                  119390 non-null  object \n",
            " 15  distribution_channel            119390 non-null  object \n",
            " 16  is_repeated_guest               119390 non-null  int64  \n",
            " 17  previous_cancellations          119390 non-null  int64  \n",
            " 18  previous_bookings_not_canceled  119390 non-null  int64  \n",
            " 19  reserved_room_type              119390 non-null  object \n",
            " 20  assigned_room_type              119390 non-null  object \n",
            " 21  booking_changes                 119390 non-null  int64  \n",
            " 22  deposit_type                    119390 non-null  object \n",
            " 23  agent                           103050 non-null  float64\n",
            " 24  company                         6797 non-null    float64\n",
            " 25  days_in_waiting_list            119390 non-null  int64  \n",
            " 26  customer_type                   119390 non-null  object \n",
            " 27  adr                             119390 non-null  float64\n",
            " 28  required_car_parking_spaces     119390 non-null  int64  \n",
            " 29  total_of_special_requests       119390 non-null  int64  \n",
            " 30  reservation_status              119390 non-null  object \n",
            " 31  reservation_status_date         119390 non-null  object \n",
            "dtypes: float64(4), int64(16), object(12)\n",
            "memory usage: 29.1+ MB\n"
          ]
        }
      ]
    },
    {
      "cell_type": "markdown",
      "source": [
        "Description Of Dataset"
      ],
      "metadata": {
        "id": "0Wo9WaoDt_ln"
      }
    },
    {
      "cell_type": "code",
      "source": [
        "data.describe()"
      ],
      "metadata": {
        "colab": {
          "base_uri": "https://localhost:8080/",
          "height": 364
        },
        "id": "rHJLE_pttyk5",
        "outputId": "0c042da0-9ffe-4fee-a1b3-f1993d865406"
      },
      "execution_count": 27,
      "outputs": [
        {
          "output_type": "execute_result",
          "data": {
            "text/plain": [
              "        is_canceled     lead_time  arrival_date_year  \\\n",
              "count  79069.000000  79069.000000       79069.000000   \n",
              "mean       0.262581     75.660790        2016.219745   \n",
              "std        0.440039     81.855158           0.680910   \n",
              "min        0.000000      0.000000        2015.000000   \n",
              "25%        0.000000     10.000000        2016.000000   \n",
              "50%        0.000000     46.000000        2016.000000   \n",
              "75%        1.000000    118.000000        2017.000000   \n",
              "max        1.000000    737.000000        2017.000000   \n",
              "\n",
              "       arrival_date_day_of_month  stays_in_weekend_nights  \\\n",
              "count               79069.000000             79069.000000   \n",
              "mean                   15.799567                 1.018402   \n",
              "std                     8.843164                 1.035639   \n",
              "min                     1.000000                 0.000000   \n",
              "25%                     8.000000                 0.000000   \n",
              "50%                    16.000000                 1.000000   \n",
              "75%                    23.000000                 2.000000   \n",
              "max                    31.000000                19.000000   \n",
              "\n",
              "       stays_in_week_nights        adults      children        babies  \\\n",
              "count          79069.000000  79069.000000  79069.000000  79069.000000   \n",
              "mean               2.650811      1.889173      0.150109      0.011926   \n",
              "std                2.071705      0.634777      0.473128      0.119216   \n",
              "min                0.000000      0.000000      0.000000      0.000000   \n",
              "25%                1.000000      2.000000      0.000000      0.000000   \n",
              "50%                2.000000      2.000000      0.000000      0.000000   \n",
              "75%                4.000000      2.000000      0.000000      0.000000   \n",
              "max               50.000000     55.000000     10.000000     10.000000   \n",
              "\n",
              "       is_repeated_guest  previous_cancellations  \\\n",
              "count       79069.000000            79069.000000   \n",
              "mean            0.041495                0.026003   \n",
              "std             0.199434                0.315141   \n",
              "min             0.000000                0.000000   \n",
              "25%             0.000000                0.000000   \n",
              "50%             0.000000                0.000000   \n",
              "75%             0.000000                0.000000   \n",
              "max             1.000000               25.000000   \n",
              "\n",
              "       previous_bookings_not_canceled  booking_changes         agent  \\\n",
              "count                    79069.000000     79069.000000  79069.000000   \n",
              "mean                         0.201583         0.278516     82.348190   \n",
              "std                          1.815607         0.727963    110.212878   \n",
              "min                          0.000000         0.000000      0.000000   \n",
              "25%                          0.000000         0.000000      9.000000   \n",
              "50%                          0.000000         0.000000      9.000000   \n",
              "75%                          0.000000         0.000000    240.000000   \n",
              "max                         72.000000        18.000000    535.000000   \n",
              "\n",
              "            company  days_in_waiting_list  Average_day_Rate  \\\n",
              "count  79069.000000          79069.000000      79069.000000   \n",
              "mean      10.775980              0.487764        107.932804   \n",
              "std       53.224792              7.629491         56.101881   \n",
              "min        0.000000              0.000000         -6.380000   \n",
              "25%        0.000000              0.000000         73.000000   \n",
              "50%        0.000000              0.000000         99.210000   \n",
              "75%        0.000000              0.000000        136.000000   \n",
              "max      543.000000            330.000000       5400.000000   \n",
              "\n",
              "       required_car_parking_spaces  total_of_special_requests  \n",
              "count                 79069.000000               79069.000000  \n",
              "mean                      0.091945                   0.716071  \n",
              "std                       0.292992                   0.835542  \n",
              "min                       0.000000                   0.000000  \n",
              "25%                       0.000000                   0.000000  \n",
              "50%                       0.000000                   1.000000  \n",
              "75%                       0.000000                   1.000000  \n",
              "max                       8.000000                   5.000000  "
            ],
            "text/html": [
              "\n",
              "  <div id=\"df-cce42955-b99f-4f5f-9d28-2d885e1ef40b\">\n",
              "    <div class=\"colab-df-container\">\n",
              "      <div>\n",
              "<style scoped>\n",
              "    .dataframe tbody tr th:only-of-type {\n",
              "        vertical-align: middle;\n",
              "    }\n",
              "\n",
              "    .dataframe tbody tr th {\n",
              "        vertical-align: top;\n",
              "    }\n",
              "\n",
              "    .dataframe thead th {\n",
              "        text-align: right;\n",
              "    }\n",
              "</style>\n",
              "<table border=\"1\" class=\"dataframe\">\n",
              "  <thead>\n",
              "    <tr style=\"text-align: right;\">\n",
              "      <th></th>\n",
              "      <th>is_canceled</th>\n",
              "      <th>lead_time</th>\n",
              "      <th>arrival_date_year</th>\n",
              "      <th>arrival_date_day_of_month</th>\n",
              "      <th>stays_in_weekend_nights</th>\n",
              "      <th>stays_in_week_nights</th>\n",
              "      <th>adults</th>\n",
              "      <th>children</th>\n",
              "      <th>babies</th>\n",
              "      <th>is_repeated_guest</th>\n",
              "      <th>previous_cancellations</th>\n",
              "      <th>previous_bookings_not_canceled</th>\n",
              "      <th>booking_changes</th>\n",
              "      <th>agent</th>\n",
              "      <th>company</th>\n",
              "      <th>days_in_waiting_list</th>\n",
              "      <th>Average_day_Rate</th>\n",
              "      <th>required_car_parking_spaces</th>\n",
              "      <th>total_of_special_requests</th>\n",
              "    </tr>\n",
              "  </thead>\n",
              "  <tbody>\n",
              "    <tr>\n",
              "      <th>count</th>\n",
              "      <td>79069.000000</td>\n",
              "      <td>79069.000000</td>\n",
              "      <td>79069.000000</td>\n",
              "      <td>79069.000000</td>\n",
              "      <td>79069.000000</td>\n",
              "      <td>79069.000000</td>\n",
              "      <td>79069.000000</td>\n",
              "      <td>79069.000000</td>\n",
              "      <td>79069.000000</td>\n",
              "      <td>79069.000000</td>\n",
              "      <td>79069.000000</td>\n",
              "      <td>79069.000000</td>\n",
              "      <td>79069.000000</td>\n",
              "      <td>79069.000000</td>\n",
              "      <td>79069.000000</td>\n",
              "      <td>79069.000000</td>\n",
              "      <td>79069.000000</td>\n",
              "      <td>79069.000000</td>\n",
              "      <td>79069.000000</td>\n",
              "    </tr>\n",
              "    <tr>\n",
              "      <th>mean</th>\n",
              "      <td>0.262581</td>\n",
              "      <td>75.660790</td>\n",
              "      <td>2016.219745</td>\n",
              "      <td>15.799567</td>\n",
              "      <td>1.018402</td>\n",
              "      <td>2.650811</td>\n",
              "      <td>1.889173</td>\n",
              "      <td>0.150109</td>\n",
              "      <td>0.011926</td>\n",
              "      <td>0.041495</td>\n",
              "      <td>0.026003</td>\n",
              "      <td>0.201583</td>\n",
              "      <td>0.278516</td>\n",
              "      <td>82.348190</td>\n",
              "      <td>10.775980</td>\n",
              "      <td>0.487764</td>\n",
              "      <td>107.932804</td>\n",
              "      <td>0.091945</td>\n",
              "      <td>0.716071</td>\n",
              "    </tr>\n",
              "    <tr>\n",
              "      <th>std</th>\n",
              "      <td>0.440039</td>\n",
              "      <td>81.855158</td>\n",
              "      <td>0.680910</td>\n",
              "      <td>8.843164</td>\n",
              "      <td>1.035639</td>\n",
              "      <td>2.071705</td>\n",
              "      <td>0.634777</td>\n",
              "      <td>0.473128</td>\n",
              "      <td>0.119216</td>\n",
              "      <td>0.199434</td>\n",
              "      <td>0.315141</td>\n",
              "      <td>1.815607</td>\n",
              "      <td>0.727963</td>\n",
              "      <td>110.212878</td>\n",
              "      <td>53.224792</td>\n",
              "      <td>7.629491</td>\n",
              "      <td>56.101881</td>\n",
              "      <td>0.292992</td>\n",
              "      <td>0.835542</td>\n",
              "    </tr>\n",
              "    <tr>\n",
              "      <th>min</th>\n",
              "      <td>0.000000</td>\n",
              "      <td>0.000000</td>\n",
              "      <td>2015.000000</td>\n",
              "      <td>1.000000</td>\n",
              "      <td>0.000000</td>\n",
              "      <td>0.000000</td>\n",
              "      <td>0.000000</td>\n",
              "      <td>0.000000</td>\n",
              "      <td>0.000000</td>\n",
              "      <td>0.000000</td>\n",
              "      <td>0.000000</td>\n",
              "      <td>0.000000</td>\n",
              "      <td>0.000000</td>\n",
              "      <td>0.000000</td>\n",
              "      <td>0.000000</td>\n",
              "      <td>0.000000</td>\n",
              "      <td>-6.380000</td>\n",
              "      <td>0.000000</td>\n",
              "      <td>0.000000</td>\n",
              "    </tr>\n",
              "    <tr>\n",
              "      <th>25%</th>\n",
              "      <td>0.000000</td>\n",
              "      <td>10.000000</td>\n",
              "      <td>2016.000000</td>\n",
              "      <td>8.000000</td>\n",
              "      <td>0.000000</td>\n",
              "      <td>1.000000</td>\n",
              "      <td>2.000000</td>\n",
              "      <td>0.000000</td>\n",
              "      <td>0.000000</td>\n",
              "      <td>0.000000</td>\n",
              "      <td>0.000000</td>\n",
              "      <td>0.000000</td>\n",
              "      <td>0.000000</td>\n",
              "      <td>9.000000</td>\n",
              "      <td>0.000000</td>\n",
              "      <td>0.000000</td>\n",
              "      <td>73.000000</td>\n",
              "      <td>0.000000</td>\n",
              "      <td>0.000000</td>\n",
              "    </tr>\n",
              "    <tr>\n",
              "      <th>50%</th>\n",
              "      <td>0.000000</td>\n",
              "      <td>46.000000</td>\n",
              "      <td>2016.000000</td>\n",
              "      <td>16.000000</td>\n",
              "      <td>1.000000</td>\n",
              "      <td>2.000000</td>\n",
              "      <td>2.000000</td>\n",
              "      <td>0.000000</td>\n",
              "      <td>0.000000</td>\n",
              "      <td>0.000000</td>\n",
              "      <td>0.000000</td>\n",
              "      <td>0.000000</td>\n",
              "      <td>0.000000</td>\n",
              "      <td>9.000000</td>\n",
              "      <td>0.000000</td>\n",
              "      <td>0.000000</td>\n",
              "      <td>99.210000</td>\n",
              "      <td>0.000000</td>\n",
              "      <td>1.000000</td>\n",
              "    </tr>\n",
              "    <tr>\n",
              "      <th>75%</th>\n",
              "      <td>1.000000</td>\n",
              "      <td>118.000000</td>\n",
              "      <td>2017.000000</td>\n",
              "      <td>23.000000</td>\n",
              "      <td>2.000000</td>\n",
              "      <td>4.000000</td>\n",
              "      <td>2.000000</td>\n",
              "      <td>0.000000</td>\n",
              "      <td>0.000000</td>\n",
              "      <td>0.000000</td>\n",
              "      <td>0.000000</td>\n",
              "      <td>0.000000</td>\n",
              "      <td>0.000000</td>\n",
              "      <td>240.000000</td>\n",
              "      <td>0.000000</td>\n",
              "      <td>0.000000</td>\n",
              "      <td>136.000000</td>\n",
              "      <td>0.000000</td>\n",
              "      <td>1.000000</td>\n",
              "    </tr>\n",
              "    <tr>\n",
              "      <th>max</th>\n",
              "      <td>1.000000</td>\n",
              "      <td>737.000000</td>\n",
              "      <td>2017.000000</td>\n",
              "      <td>31.000000</td>\n",
              "      <td>19.000000</td>\n",
              "      <td>50.000000</td>\n",
              "      <td>55.000000</td>\n",
              "      <td>10.000000</td>\n",
              "      <td>10.000000</td>\n",
              "      <td>1.000000</td>\n",
              "      <td>25.000000</td>\n",
              "      <td>72.000000</td>\n",
              "      <td>18.000000</td>\n",
              "      <td>535.000000</td>\n",
              "      <td>543.000000</td>\n",
              "      <td>330.000000</td>\n",
              "      <td>5400.000000</td>\n",
              "      <td>8.000000</td>\n",
              "      <td>5.000000</td>\n",
              "    </tr>\n",
              "  </tbody>\n",
              "</table>\n",
              "</div>\n",
              "      <button class=\"colab-df-convert\" onclick=\"convertToInteractive('df-cce42955-b99f-4f5f-9d28-2d885e1ef40b')\"\n",
              "              title=\"Convert this dataframe to an interactive table.\"\n",
              "              style=\"display:none;\">\n",
              "        \n",
              "  <svg xmlns=\"http://www.w3.org/2000/svg\" height=\"24px\"viewBox=\"0 0 24 24\"\n",
              "       width=\"24px\">\n",
              "    <path d=\"M0 0h24v24H0V0z\" fill=\"none\"/>\n",
              "    <path d=\"M18.56 5.44l.94 2.06.94-2.06 2.06-.94-2.06-.94-.94-2.06-.94 2.06-2.06.94zm-11 1L8.5 8.5l.94-2.06 2.06-.94-2.06-.94L8.5 2.5l-.94 2.06-2.06.94zm10 10l.94 2.06.94-2.06 2.06-.94-2.06-.94-.94-2.06-.94 2.06-2.06.94z\"/><path d=\"M17.41 7.96l-1.37-1.37c-.4-.4-.92-.59-1.43-.59-.52 0-1.04.2-1.43.59L10.3 9.45l-7.72 7.72c-.78.78-.78 2.05 0 2.83L4 21.41c.39.39.9.59 1.41.59.51 0 1.02-.2 1.41-.59l7.78-7.78 2.81-2.81c.8-.78.8-2.07 0-2.86zM5.41 20L4 18.59l7.72-7.72 1.47 1.35L5.41 20z\"/>\n",
              "  </svg>\n",
              "      </button>\n",
              "      \n",
              "  <style>\n",
              "    .colab-df-container {\n",
              "      display:flex;\n",
              "      flex-wrap:wrap;\n",
              "      gap: 12px;\n",
              "    }\n",
              "\n",
              "    .colab-df-convert {\n",
              "      background-color: #E8F0FE;\n",
              "      border: none;\n",
              "      border-radius: 50%;\n",
              "      cursor: pointer;\n",
              "      display: none;\n",
              "      fill: #1967D2;\n",
              "      height: 32px;\n",
              "      padding: 0 0 0 0;\n",
              "      width: 32px;\n",
              "    }\n",
              "\n",
              "    .colab-df-convert:hover {\n",
              "      background-color: #E2EBFA;\n",
              "      box-shadow: 0px 1px 2px rgba(60, 64, 67, 0.3), 0px 1px 3px 1px rgba(60, 64, 67, 0.15);\n",
              "      fill: #174EA6;\n",
              "    }\n",
              "\n",
              "    [theme=dark] .colab-df-convert {\n",
              "      background-color: #3B4455;\n",
              "      fill: #D2E3FC;\n",
              "    }\n",
              "\n",
              "    [theme=dark] .colab-df-convert:hover {\n",
              "      background-color: #434B5C;\n",
              "      box-shadow: 0px 1px 3px 1px rgba(0, 0, 0, 0.15);\n",
              "      filter: drop-shadow(0px 1px 2px rgba(0, 0, 0, 0.3));\n",
              "      fill: #FFFFFF;\n",
              "    }\n",
              "  </style>\n",
              "\n",
              "      <script>\n",
              "        const buttonEl =\n",
              "          document.querySelector('#df-cce42955-b99f-4f5f-9d28-2d885e1ef40b button.colab-df-convert');\n",
              "        buttonEl.style.display =\n",
              "          google.colab.kernel.accessAllowed ? 'block' : 'none';\n",
              "\n",
              "        async function convertToInteractive(key) {\n",
              "          const element = document.querySelector('#df-cce42955-b99f-4f5f-9d28-2d885e1ef40b');\n",
              "          const dataTable =\n",
              "            await google.colab.kernel.invokeFunction('convertToInteractive',\n",
              "                                                     [key], {});\n",
              "          if (!dataTable) return;\n",
              "\n",
              "          const docLinkHtml = 'Like what you see? Visit the ' +\n",
              "            '<a target=\"_blank\" href=https://colab.research.google.com/notebooks/data_table.ipynb>data table notebook</a>'\n",
              "            + ' to learn more about interactive tables.';\n",
              "          element.innerHTML = '';\n",
              "          dataTable['output_type'] = 'display_data';\n",
              "          await google.colab.output.renderOutput(dataTable, element);\n",
              "          const docLink = document.createElement('div');\n",
              "          docLink.innerHTML = docLinkHtml;\n",
              "          element.appendChild(docLink);\n",
              "        }\n",
              "      </script>\n",
              "    </div>\n",
              "  </div>\n",
              "  "
            ]
          },
          "metadata": {},
          "execution_count": 27
        }
      ]
    },
    {
      "cell_type": "markdown",
      "source": [
        "*Quick observation*\n",
        "27.4 % of the people have cancelled their booking as per the dataset.\n",
        "Avg. lead time is 80 days.\n",
        "Only 4% of the guests are repeated.\n",
        "Each booking has on an average 1.8 adults and 0.13 children."
      ],
      "metadata": {
        "id": "mAM3q8hH8Rnc"
      }
    },
    {
      "cell_type": "markdown",
      "source": [
        "#**Cleaning Of Dataset**"
      ],
      "metadata": {
        "id": "toDlpoCAuPZ4"
      }
    },
    {
      "cell_type": "markdown",
      "source": [
        "Dropping Duplicates"
      ],
      "metadata": {
        "id": "FDCND6R3861b"
      }
    },
    {
      "cell_type": "code",
      "source": [
        "data.duplicated().value_counts()\n",
        "data.drop_duplicates(keep=False,inplace=True)"
      ],
      "metadata": {
        "id": "AIjqDQOIZga_"
      },
      "execution_count": 4,
      "outputs": []
    },
    {
      "cell_type": "markdown",
      "source": [
        "Filling Null Values"
      ],
      "metadata": {
        "id": "PydGH_TXuaxU"
      }
    },
    {
      "cell_type": "code",
      "source": [
        "sns.heatmap(data.isnull(),yticklabels=False,cbar=False,cmap='viridis')"
      ],
      "metadata": {
        "colab": {
          "base_uri": "https://localhost:8080/",
          "height": 436
        },
        "id": "wwIh_7YHo8eP",
        "outputId": "31676773-b149-4b19-c972-ea768dfd399a"
      },
      "execution_count": 13,
      "outputs": [
        {
          "output_type": "execute_result",
          "data": {
            "text/plain": [
              "<matplotlib.axes._subplots.AxesSubplot at 0x7f85f3152e50>"
            ]
          },
          "metadata": {},
          "execution_count": 13
        },
        {
          "output_type": "display_data",
          "data": {
            "text/plain": [
              "<Figure size 432x288 with 1 Axes>"
            ],
            "image/png": "[encoded data removed]"
          },
          "metadata": {
            "needs_background": "light"
          }
        }
      ]
    },
    {
      "cell_type": "code",
      "source": [
        "a=data['children'].fillna(data['children'].mode)"
      ],
      "metadata": {
        "id": "QkGRyMBpwoL7"
      },
      "execution_count": 28,
      "outputs": []
    },
    {
      "cell_type": "code",
      "source": [
        "nullv={'children':0,'agent':0,'country':'unknown','company':0}\n",
        "data=data.fillna(nullv)\n"
      ],
      "metadata": {
        "id": "B7FymzWHj9nh"
      },
      "execution_count": 5,
      "outputs": []
    },
    {
      "cell_type": "code",
      "source": [
        "# changing dtype to its correct dtype\n",
        "data['reservation_status_date']=pd.to_datetime(data['reservation_status_date']).dt.date.astype('datetime64[ns]')\n",
        "data['children']=data['children'].astype(int)\n",
        "data['company']=data['company'].astype(int)\n",
        "data['agent']=data['agent'].astype(int)"
      ],
      "metadata": {
        "id": "h5blVOrFXMn8"
      },
      "execution_count": 6,
      "outputs": []
    },
    {
      "cell_type": "code",
      "source": [
        "data.shape"
      ],
      "metadata": {
        "id": "Yepbmky9ac7C",
        "outputId": "e2a9e34f-32f8-41f1-88b1-eb641b8a2ea4",
        "colab": {
          "base_uri": "https://localhost:8080/"
        }
      },
      "execution_count": 7,
      "outputs": [
        {
          "output_type": "execute_result",
          "data": {
            "text/plain": [
              "(79225, 32)"
            ]
          },
          "metadata": {},
          "execution_count": 7
        }
      ]
    },
    {
      "cell_type": "code",
      "source": [
        "# Changing Column names \n",
        "data=data.rename(columns={'adr':'Average_day_Rate'})"
      ],
      "metadata": {
        "id": "5TdmtZPsoCgq"
      },
      "execution_count": 8,
      "outputs": []
    },
    {
      "cell_type": "code",
      "source": [
        "#bb-bed and breakfast\n",
        "#hb-half board-breakfast and dinner\n",
        "#fb-full board -lunch breakfast dinner\n",
        "#sc-self catering - no meals"
      ],
      "metadata": {
        "id": "iRERIrHkzn8y"
      },
      "execution_count": null,
      "outputs": []
    },
    {
      "cell_type": "code",
      "source": [
        "'''Univariate Analysis\n",
        "1. Which agent made most of bookings\n",
        "2.Which Room Type is in most demands and which room type generate highest adr?\n",
        "3.From which country most of the customers comming?\n",
        "4.what is the most preferred meal by customers?'''\n"
      ],
      "metadata": {
        "colab": {
          "base_uri": "https://localhost:8080/",
          "height": 53
        },
        "id": "rycgXg5RPgv_",
        "outputId": "7aac450d-948f-46fe-ac96-ad5c4bbaf7b1"
      },
      "execution_count": 69,
      "outputs": [
        {
          "output_type": "execute_result",
          "data": {
            "text/plain": [
              "'Univariate Analysis\\n1. Which agent made most of bookings\\n2.Which Room Type is in most demands and which room type generate highest adr?\\n3.From which country most of the customers comming?\\n4.what is the most preferred meal by customers?'"
            ],
            "application/vnd.google.colaboratory.intrinsic+json": {
              "type": "string"
            }
          },
          "metadata": {},
          "execution_count": 69
        }
      ]
    },
    {
      "cell_type": "markdown",
      "source": [
        "Dropping Columns"
      ],
      "metadata": {
        "id": "G0Q4jUQ58aub"
      }
    },
    {
      "cell_type": "code",
      "source": [
        "# Dropping Data which  does not make any sense.\n",
        "data[data['children']+data['babies']+data['adults']==0].shape\n",
        "data.drop(data[data['children']+data['babies']+data['adults']==0].index,inplace=True)\n",
        "data.drop('arrival_date_week_number',inplace=True,axis=1)"
      ],
      "metadata": {
        "id": "9zzFn4FJeAb9"
      },
      "execution_count": 9,
      "outputs": []
    },
    {
      "cell_type": "markdown",
      "source": [
        "From which country most guests come?"
      ],
      "metadata": {
        "id": "_RoziOEH8yHu"
      }
    },
    {
      "cell_type": "code",
      "source": [
        "a=data.groupby('country')['country'].count().sort_values(ascending=False)\n",
        "a=a[:10]"
      ],
      "metadata": {
        "id": "lc6RbOP-8xGE"
      },
      "execution_count": 12,
      "outputs": []
    },
    {
      "cell_type": "code",
      "source": [
        "ax=a.plot.bar(figsize=(10,5),fontsize=10)\n",
        "ax.set_xlabel(\"Country\",fontsize=15)\n",
        "ax.set_ylabel(\"No.of Bookings\",fontsize=15)\n",
        "\n"
      ],
      "metadata": {
        "colab": {
          "base_uri": "https://localhost:8080/",
          "height": 367
        },
        "id": "Fnn5zTqnKqjW",
        "outputId": "7797929c-7c12-4d2e-ac4c-8cf1d084e9f8"
      },
      "execution_count": 14,
      "outputs": [
        {
          "output_type": "execute_result",
          "data": {
            "text/plain": [
              "Text(0, 0.5, 'No.of Bookings')"
            ]
          },
          "metadata": {},
          "execution_count": 14
        },
        {
          "output_type": "display_data",
          "data": {
            "text/plain": [
              "<Figure size 720x360 with 1 Axes>"
            ],
            "image/png": "[encoded data removed]"
          },
          "metadata": {
            "needs_background": "light"
          }
        }
      ]
    },
    {
      "cell_type": "code",
      "source": [
        ""
      ],
      "metadata": {
        "id": "e7JOK4ffKnFy"
      },
      "execution_count": 36,
      "outputs": []
    },
    {
      "cell_type": "markdown",
      "source": [
        "1.How Many Booking Were Cancelled?\n",
        "2.What is the booking ratio between Resort Hotel and City Hotel?\n",
        "3.What is the percentage of booking for each year?\n",
        "4.Which is the most busy month for hotel?\n",
        "5.From which country most guest come?\n",
        "6.How Long People Stay in the hotel?\n",
        "7.Which was the most booked accommodation type (Single, Couple, Family)?"
      ],
      "metadata": {
        "id": "inTdqxvVlPP-"
      }
    },
    {
      "cell_type": "code",
      "source": [
        "'''\n",
        "1.How Many Booking Were Cancelled?\n",
        "2.What is the booking ratio between Resort Hotel and City Hotel?\n",
        "3.What is the percentage of booking for each year?\n",
        "4.Which is the most busy month for hotel?\n",
        "5.From which country most guest come?\n",
        "6.How Long People Stay in the hotel?\n",
        "7.Which was the most booked accommodation type (Single, Couple, Family)?\n",
        "\n",
        "8. How strong is the seasonality?\n",
        "\n",
        "Hotels, spetially resort hotels are known to have strong seasonality. \n",
        "If you are managing one of this hotels or if you want to introduce yourself in a market,\n",
        "a very basic point is to understand the seasonality patterns. ¿how strong is the seasonality? \n",
        "¿When does the 'summer season' beggins in this location (April, May, ...)?\n",
        "\n",
        "9. Up to what point ADR, length of stay, and lead time for group reservations differ from individual/transient ones?\n",
        "\n",
        "This question is important from the revenue point of view: if groups usually make reservations with a lot of antelation, \n",
        "they could by at a cheaper price, since ussually there are erly booking offers, and prices tend to be higher when there is little antelation. \n",
        "In this situation, an hotelier can have an hotel nearly at the top of its capacity for a series of consecutive nights, \n",
        "that have been sold at a very low price, because a group made the reservation well on advance. Moreover, \n",
        "if a group comes to an event that takes place for only two days, say tuesday and wenedsday (in the middle of the week), \n",
        "and this group makes for 80 or 90 % of the hotel rooms, in some hotels it will me more difficultto fill up the hotel for that particular week. \n",
        "It will be more difficult to sell a room when you are forced to sell it \"from thursday to sunday\". \n",
        "For this reason sometimes the price for a group should be higher than the average rate. \n",
        "We'll also try to check if this difficulty to sell rooms in the adjancent days of a group stay is true in the case of these two hotels.\n",
        "\n",
        "10. Can we predict a cancellation, just with the information available at the moment this reservation has been made?\n",
        "\n",
        "If we can predict wether or not a booking will be cancelled we can target this client (if posible) for specific marketing campaigns for clients \n",
        "that will likely cancel a reservation if no action is taken."
      ],
      "metadata": {
        "id": "y8WQla1kCTJ4"
      },
      "execution_count": 170,
      "outputs": []
    },
    {
      "cell_type": "code",
      "source": [
        "data.info()"
      ],
      "metadata": {
        "colab": {
          "base_uri": "https://localhost:8080/"
        },
        "id": "oUfkK49oCnhZ",
        "outputId": "9f605fe2-d924-41e2-fe9b-ec3c8de9c484"
      },
      "execution_count": 10,
      "outputs": [
        {
          "output_type": "stream",
          "name": "stdout",
          "text": [
            "<class 'pandas.core.frame.DataFrame'>\n",
            "Int64Index: 79069 entries, 0 to 119389\n",
            "Data columns (total 31 columns):\n",
            " #   Column                          Non-Null Count  Dtype         \n",
            "---  ------                          --------------  -----         \n",
            " 0   hotel                           79069 non-null  object        \n",
            " 1   is_canceled                     79069 non-null  int64         \n",
            " 2   lead_time                       79069 non-null  int64         \n",
            " 3   arrival_date_year               79069 non-null  int64         \n",
            " 4   arrival_date_month              79069 non-null  object        \n",
            " 5   arrival_date_day_of_month       79069 non-null  int64         \n",
            " 6   stays_in_weekend_nights         79069 non-null  int64         \n",
            " 7   stays_in_week_nights            79069 non-null  int64         \n",
            " 8   adults                          79069 non-null  int64         \n",
            " 9   children                        79069 non-null  int64         \n",
            " 10  babies                          79069 non-null  int64         \n",
            " 11  meal                            79069 non-null  object        \n",
            " 12  country                         79069 non-null  object        \n",
            " 13  market_segment                  79069 non-null  object        \n",
            " 14  distribution_channel            79069 non-null  object        \n",
            " 15  is_repeated_guest               79069 non-null  int64         \n",
            " 16  previous_cancellations          79069 non-null  int64         \n",
            " 17  previous_bookings_not_canceled  79069 non-null  int64         \n",
            " 18  reserved_room_type              79069 non-null  object        \n",
            " 19  assigned_room_type              79069 non-null  object        \n",
            " 20  booking_changes                 79069 non-null  int64         \n",
            " 21  deposit_type                    79069 non-null  object        \n",
            " 22  agent                           79069 non-null  int64         \n",
            " 23  company                         79069 non-null  int64         \n",
            " 24  days_in_waiting_list            79069 non-null  int64         \n",
            " 25  customer_type                   79069 non-null  object        \n",
            " 26  Average_day_Rate                79069 non-null  float64       \n",
            " 27  required_car_parking_spaces     79069 non-null  int64         \n",
            " 28  total_of_special_requests       79069 non-null  int64         \n",
            " 29  reservation_status              79069 non-null  object        \n",
            " 30  reservation_status_date         79069 non-null  datetime64[ns]\n",
            "dtypes: datetime64[ns](1), float64(1), int64(18), object(11)\n",
            "memory usage: 19.3+ MB\n"
          ]
        }
      ]
    },
    {
      "cell_type": "markdown",
      "source": [
        "How Many Booking Were Cancelled?"
      ],
      "metadata": {
        "id": "InFC5GBMtHk_"
      }
    },
    {
      "cell_type": "code",
      "source": [
        "data['is_canceled'].value_counts()\n"
      ],
      "metadata": {
        "colab": {
          "base_uri": "https://localhost:8080/"
        },
        "id": "9exwqQZhtLwK",
        "outputId": "8e00d576-3eb9-484a-d6fb-57210f3ac8df"
      },
      "execution_count": 11,
      "outputs": [
        {
          "output_type": "execute_result",
          "data": {
            "text/plain": [
              "0    58307\n",
              "1    20762\n",
              "Name: is_canceled, dtype: int64"
            ]
          },
          "metadata": {},
          "execution_count": 11
        }
      ]
    },
    {
      "cell_type": "code",
      "source": [
        "sns.set_style('whitegrid')\n",
        "sns.countplot(x='is_canceled',data=data)\n"
      ],
      "metadata": {
        "colab": {
          "base_uri": "https://localhost:8080/",
          "height": 297
        },
        "id": "rpcn6ytMOU8e",
        "outputId": "7f2877a7-2516-49b0-fa0f-fa612ee0c880"
      },
      "execution_count": 15,
      "outputs": [
        {
          "output_type": "execute_result",
          "data": {
            "text/plain": [
              "<matplotlib.axes._subplots.AxesSubplot at 0x7f85f01a6c10>"
            ]
          },
          "metadata": {},
          "execution_count": 15
        },
        {
          "output_type": "display_data",
          "data": {
            "text/plain": [
              "<Figure size 432x288 with 1 Axes>"
            ],
            "image/png": "[encoded data removed]"
          },
          "metadata": {}
        }
      ]
    },
    {
      "cell_type": "markdown",
      "source": [
        "Cancellation on basis of Hotels"
      ],
      "metadata": {
        "id": "yEx68P9HsLs8"
      }
    },
    {
      "cell_type": "code",
      "source": [
        "sns.set_style('whitegrid')\n",
        "sns.countplot(x='is_canceled',hue='hotel',data=data,palette=\"RdBu_r\")"
      ],
      "metadata": {
        "colab": {
          "base_uri": "https://localhost:8080/",
          "height": 298
        },
        "id": "jtF2D6vlqs1U",
        "outputId": "ded82f5b-794f-450b-d449-ecf1f664186f"
      },
      "execution_count": 16,
      "outputs": [
        {
          "output_type": "execute_result",
          "data": {
            "text/plain": [
              "<matplotlib.axes._subplots.AxesSubplot at 0x7f85f009b0d0>"
            ]
          },
          "metadata": {},
          "execution_count": 16
        },
        {
          "output_type": "display_data",
          "data": {
            "text/plain": [
              "<Figure size 432x288 with 1 Axes>"
            ],
            "image/png": "[encoded data removed]"
          },
          "metadata": {}
        }
      ]
    },
    {
      "cell_type": "code",
      "source": [
        "sns.set_style('whitegrid')\n",
        "sns.countplot(x='is_canceled',hue='customer_type',data=data,palette=\"rainbow\")"
      ],
      "metadata": {
        "colab": {
          "base_uri": "https://localhost:8080/",
          "height": 299
        },
        "id": "y9jvCxJlryAY",
        "outputId": "5759c6f0-22f6-4946-f6d9-b831f6891345"
      },
      "execution_count": 18,
      "outputs": [
        {
          "output_type": "execute_result",
          "data": {
            "text/plain": [
              "<matplotlib.axes._subplots.AxesSubplot at 0x7f85f0073a90>"
            ]
          },
          "metadata": {},
          "execution_count": 18
        },
        {
          "output_type": "display_data",
          "data": {
            "text/plain": [
              "<Figure size 432x288 with 1 Axes>"
            ],
            "image/png": "[encoded data removed]"
          },
          "metadata": {}
        }
      ]
    },
    {
      "cell_type": "code",
      "source": [
        "data.head()"
      ],
      "metadata": {
        "colab": {
          "base_uri": "https://localhost:8080/",
          "height": 386
        },
        "id": "PC74RIbqA2YS",
        "outputId": "04dcfd60-5368-4a74-9cf8-910b683bc9bf"
      },
      "execution_count": 22,
      "outputs": [
        {
          "output_type": "execute_result",
          "data": {
            "text/plain": [
              "          hotel  is_canceled  lead_time  arrival_date_year arrival_date_month  \\\n",
              "0  Resort Hotel            0        342               2015               July   \n",
              "1  Resort Hotel            0        737               2015               July   \n",
              "2  Resort Hotel            0          7               2015               July   \n",
              "3  Resort Hotel            0         13               2015               July   \n",
              "6  Resort Hotel            0          0               2015               July   \n",
              "\n",
              "   arrival_date_day_of_month  stays_in_weekend_nights  stays_in_week_nights  \\\n",
              "0                          1                        0                     0   \n",
              "1                          1                        0                     0   \n",
              "2                          1                        0                     1   \n",
              "3                          1                        0                     1   \n",
              "6                          1                        0                     2   \n",
              "\n",
              "   adults  children  ...  deposit_type agent company days_in_waiting_list  \\\n",
              "0       2         0  ...    No Deposit     0       0                    0   \n",
              "1       2         0  ...    No Deposit     0       0                    0   \n",
              "2       1         0  ...    No Deposit     0       0                    0   \n",
              "3       1         0  ...    No Deposit   304       0                    0   \n",
              "6       2         0  ...    No Deposit     0       0                    0   \n",
              "\n",
              "  customer_type  Average_day_Rate  required_car_parking_spaces  \\\n",
              "0     Transient               0.0                            0   \n",
              "1     Transient               0.0                            0   \n",
              "2     Transient              75.0                            0   \n",
              "3     Transient              75.0                            0   \n",
              "6     Transient             107.0                            0   \n",
              "\n",
              "   total_of_special_requests reservation_status reservation_status_date  \n",
              "0                          0          Check-Out              2015-07-01  \n",
              "1                          0          Check-Out              2015-07-01  \n",
              "2                          0          Check-Out              2015-07-02  \n",
              "3                          0          Check-Out              2015-07-02  \n",
              "6                          0          Check-Out              2015-07-03  \n",
              "\n",
              "[5 rows x 31 columns]"
            ],
            "text/html": [
              "\n",
              "  <div id=\"df-934f34f3-ee1d-4540-a950-2ed452025717\">\n",
              "    <div class=\"colab-df-container\">\n",
              "      <div>\n",
              "<style scoped>\n",
              "    .dataframe tbody tr th:only-of-type {\n",
              "        vertical-align: middle;\n",
              "    }\n",
              "\n",
              "    .dataframe tbody tr th {\n",
              "        vertical-align: top;\n",
              "    }\n",
              "\n",
              "    .dataframe thead th {\n",
              "        text-align: right;\n",
              "    }\n",
              "</style>\n",
              "<table border=\"1\" class=\"dataframe\">\n",
              "  <thead>\n",
              "    <tr style=\"text-align: right;\">\n",
              "      <th></th>\n",
              "      <th>hotel</th>\n",
              "      <th>is_canceled</th>\n",
              "      <th>lead_time</th>\n",
              "      <th>arrival_date_year</th>\n",
              "      <th>arrival_date_month</th>\n",
              "      <th>arrival_date_day_of_month</th>\n",
              "      <th>stays_in_weekend_nights</th>\n",
              "      <th>stays_in_week_nights</th>\n",
              "      <th>adults</th>\n",
              "      <th>children</th>\n",
              "      <th>...</th>\n",
              "      <th>deposit_type</th>\n",
              "      <th>agent</th>\n",
              "      <th>company</th>\n",
              "      <th>days_in_waiting_list</th>\n",
              "      <th>customer_type</th>\n",
              "      <th>Average_day_Rate</th>\n",
              "      <th>required_car_parking_spaces</th>\n",
              "      <th>total_of_special_requests</th>\n",
              "      <th>reservation_status</th>\n",
              "      <th>reservation_status_date</th>\n",
              "    </tr>\n",
              "  </thead>\n",
              "  <tbody>\n",
              "    <tr>\n",
              "      <th>0</th>\n",
              "      <td>Resort Hotel</td>\n",
              "      <td>0</td>\n",
              "      <td>342</td>\n",
              "      <td>2015</td>\n",
              "      <td>July</td>\n",
              "      <td>1</td>\n",
              "      <td>0</td>\n",
              "      <td>0</td>\n",
              "      <td>2</td>\n",
              "      <td>0</td>\n",
              "      <td>...</td>\n",
              "      <td>No Deposit</td>\n",
              "      <td>0</td>\n",
              "      <td>0</td>\n",
              "      <td>0</td>\n",
              "      <td>Transient</td>\n",
              "      <td>0.0</td>\n",
              "      <td>0</td>\n",
              "      <td>0</td>\n",
              "      <td>Check-Out</td>\n",
              "      <td>2015-07-01</td>\n",
              "    </tr>\n",
              "    <tr>\n",
              "      <th>1</th>\n",
              "      <td>Resort Hotel</td>\n",
              "      <td>0</td>\n",
              "      <td>737</td>\n",
              "      <td>2015</td>\n",
              "      <td>July</td>\n",
              "      <td>1</td>\n",
              "      <td>0</td>\n",
              "      <td>0</td>\n",
              "      <td>2</td>\n",
              "      <td>0</td>\n",
              "      <td>...</td>\n",
              "      <td>No Deposit</td>\n",
              "      <td>0</td>\n",
              "      <td>0</td>\n",
              "      <td>0</td>\n",
              "      <td>Transient</td>\n",
              "      <td>0.0</td>\n",
              "      <td>0</td>\n",
              "      <td>0</td>\n",
              "      <td>Check-Out</td>\n",
              "      <td>2015-07-01</td>\n",
              "    </tr>\n",
              "    <tr>\n",
              "      <th>2</th>\n",
              "      <td>Resort Hotel</td>\n",
              "      <td>0</td>\n",
              "      <td>7</td>\n",
              "      <td>2015</td>\n",
              "      <td>July</td>\n",
              "      <td>1</td>\n",
              "      <td>0</td>\n",
              "      <td>1</td>\n",
              "      <td>1</td>\n",
              "      <td>0</td>\n",
              "      <td>...</td>\n",
              "      <td>No Deposit</td>\n",
              "      <td>0</td>\n",
              "      <td>0</td>\n",
              "      <td>0</td>\n",
              "      <td>Transient</td>\n",
              "      <td>75.0</td>\n",
              "      <td>0</td>\n",
              "      <td>0</td>\n",
              "      <td>Check-Out</td>\n",
              "      <td>2015-07-02</td>\n",
              "    </tr>\n",
              "    <tr>\n",
              "      <th>3</th>\n",
              "      <td>Resort Hotel</td>\n",
              "      <td>0</td>\n",
              "      <td>13</td>\n",
              "      <td>2015</td>\n",
              "      <td>July</td>\n",
              "      <td>1</td>\n",
              "      <td>0</td>\n",
              "      <td>1</td>\n",
              "      <td>1</td>\n",
              "      <td>0</td>\n",
              "      <td>...</td>\n",
              "      <td>No Deposit</td>\n",
              "      <td>304</td>\n",
              "      <td>0</td>\n",
              "      <td>0</td>\n",
              "      <td>Transient</td>\n",
              "      <td>75.0</td>\n",
              "      <td>0</td>\n",
              "      <td>0</td>\n",
              "      <td>Check-Out</td>\n",
              "      <td>2015-07-02</td>\n",
              "    </tr>\n",
              "    <tr>\n",
              "      <th>6</th>\n",
              "      <td>Resort Hotel</td>\n",
              "      <td>0</td>\n",
              "      <td>0</td>\n",
              "      <td>2015</td>\n",
              "      <td>July</td>\n",
              "      <td>1</td>\n",
              "      <td>0</td>\n",
              "      <td>2</td>\n",
              "      <td>2</td>\n",
              "      <td>0</td>\n",
              "      <td>...</td>\n",
              "      <td>No Deposit</td>\n",
              "      <td>0</td>\n",
              "      <td>0</td>\n",
              "      <td>0</td>\n",
              "      <td>Transient</td>\n",
              "      <td>107.0</td>\n",
              "      <td>0</td>\n",
              "      <td>0</td>\n",
              "      <td>Check-Out</td>\n",
              "      <td>2015-07-03</td>\n",
              "    </tr>\n",
              "  </tbody>\n",
              "</table>\n",
              "<p>5 rows × 31 columns</p>\n",
              "</div>\n",
              "      <button class=\"colab-df-convert\" onclick=\"convertToInteractive('df-934f34f3-ee1d-4540-a950-2ed452025717')\"\n",
              "              title=\"Convert this dataframe to an interactive table.\"\n",
              "              style=\"display:none;\">\n",
              "        \n",
              "  <svg xmlns=\"http://www.w3.org/2000/svg\" height=\"24px\"viewBox=\"0 0 24 24\"\n",
              "       width=\"24px\">\n",
              "    <path d=\"M0 0h24v24H0V0z\" fill=\"none\"/>\n",
              "    <path d=\"M18.56 5.44l.94 2.06.94-2.06 2.06-.94-2.06-.94-.94-2.06-.94 2.06-2.06.94zm-11 1L8.5 8.5l.94-2.06 2.06-.94-2.06-.94L8.5 2.5l-.94 2.06-2.06.94zm10 10l.94 2.06.94-2.06 2.06-.94-2.06-.94-.94-2.06-.94 2.06-2.06.94z\"/><path d=\"M17.41 7.96l-1.37-1.37c-.4-.4-.92-.59-1.43-.59-.52 0-1.04.2-1.43.59L10.3 9.45l-7.72 7.72c-.78.78-.78 2.05 0 2.83L4 21.41c.39.39.9.59 1.41.59.51 0 1.02-.2 1.41-.59l7.78-7.78 2.81-2.81c.8-.78.8-2.07 0-2.86zM5.41 20L4 18.59l7.72-7.72 1.47 1.35L5.41 20z\"/>\n",
              "  </svg>\n",
              "      </button>\n",
              "      \n",
              "  <style>\n",
              "    .colab-df-container {\n",
              "      display:flex;\n",
              "      flex-wrap:wrap;\n",
              "      gap: 12px;\n",
              "    }\n",
              "\n",
              "    .colab-df-convert {\n",
              "      background-color: #E8F0FE;\n",
              "      border: none;\n",
              "      border-radius: 50%;\n",
              "      cursor: pointer;\n",
              "      display: none;\n",
              "      fill: #1967D2;\n",
              "      height: 32px;\n",
              "      padding: 0 0 0 0;\n",
              "      width: 32px;\n",
              "    }\n",
              "\n",
              "    .colab-df-convert:hover {\n",
              "      background-color: #E2EBFA;\n",
              "      box-shadow: 0px 1px 2px rgba(60, 64, 67, 0.3), 0px 1px 3px 1px rgba(60, 64, 67, 0.15);\n",
              "      fill: #174EA6;\n",
              "    }\n",
              "\n",
              "    [theme=dark] .colab-df-convert {\n",
              "      background-color: #3B4455;\n",
              "      fill: #D2E3FC;\n",
              "    }\n",
              "\n",
              "    [theme=dark] .colab-df-convert:hover {\n",
              "      background-color: #434B5C;\n",
              "      box-shadow: 0px 1px 3px 1px rgba(0, 0, 0, 0.15);\n",
              "      filter: drop-shadow(0px 1px 2px rgba(0, 0, 0, 0.3));\n",
              "      fill: #FFFFFF;\n",
              "    }\n",
              "  </style>\n",
              "\n",
              "      <script>\n",
              "        const buttonEl =\n",
              "          document.querySelector('#df-934f34f3-ee1d-4540-a950-2ed452025717 button.colab-df-convert');\n",
              "        buttonEl.style.display =\n",
              "          google.colab.kernel.accessAllowed ? 'block' : 'none';\n",
              "\n",
              "        async function convertToInteractive(key) {\n",
              "          const element = document.querySelector('#df-934f34f3-ee1d-4540-a950-2ed452025717');\n",
              "          const dataTable =\n",
              "            await google.colab.kernel.invokeFunction('convertToInteractive',\n",
              "                                                     [key], {});\n",
              "          if (!dataTable) return;\n",
              "\n",
              "          const docLinkHtml = 'Like what you see? Visit the ' +\n",
              "            '<a target=\"_blank\" href=https://colab.research.google.com/notebooks/data_table.ipynb>data table notebook</a>'\n",
              "            + ' to learn more about interactive tables.';\n",
              "          element.innerHTML = '';\n",
              "          dataTable['output_type'] = 'display_data';\n",
              "          await google.colab.output.renderOutput(dataTable, element);\n",
              "          const docLink = document.createElement('div');\n",
              "          docLink.innerHTML = docLinkHtml;\n",
              "          element.appendChild(docLink);\n",
              "        }\n",
              "      </script>\n",
              "    </div>\n",
              "  </div>\n",
              "  "
            ]
          },
          "metadata": {},
          "execution_count": 22
        }
      ]
    },
    {
      "cell_type": "code",
      "source": [
        "data['customer_type'].value_counts()"
      ],
      "metadata": {
        "colab": {
          "base_uri": "https://localhost:8080/"
        },
        "id": "CKk5YdlV5xOL",
        "outputId": "7fc6e3c9-6db7-493b-ec71-2499f56491f2"
      },
      "execution_count": 19,
      "outputs": [
        {
          "output_type": "execute_result",
          "data": {
            "text/plain": [
              "Transient          67289\n",
              "Transient-Party     8379\n",
              "Contract            2884\n",
              "Group                517\n",
              "Name: customer_type, dtype: int64"
            ]
          },
          "metadata": {},
          "execution_count": 19
        }
      ]
    },
    {
      "cell_type": "code",
      "source": [
        "sns.distplot(data['lead_time'],kde=False,color='darkred')"
      ],
      "metadata": {
        "colab": {
          "base_uri": "https://localhost:8080/",
          "height": 352
        },
        "id": "H92vdz2J9Kzl",
        "outputId": "cd78be28-6ad6-4914-e6d8-446d9f705d5e"
      },
      "execution_count": 25,
      "outputs": [
        {
          "output_type": "stream",
          "name": "stderr",
          "text": [
            "/usr/local/lib/python3.7/dist-packages/seaborn/distributions.py:2619: FutureWarning: `distplot` is a deprecated function and will be removed in a future version. Please adapt your code to use either `displot` (a figure-level function with similar flexibility) or `histplot` (an axes-level function for histograms).\n",
            "  warnings.warn(msg, FutureWarning)\n"
          ]
        },
        {
          "output_type": "execute_result",
          "data": {
            "text/plain": [
              "<matplotlib.axes._subplots.AxesSubplot at 0x7f85efe5be90>"
            ]
          },
          "metadata": {},
          "execution_count": 25
        },
        {
          "output_type": "display_data",
          "data": {
            "text/plain": [
              "<Figure size 432x288 with 1 Axes>"
            ],
            "image/png": "[encoded data removed]"
          },
          "metadata": {}
        }
      ]
    },
    {
      "cell_type": "code",
      "source": [
        "sns.countplot(x='is_canceled',data=data)"
      ],
      "metadata": {
        "colab": {
          "base_uri": "https://localhost:8080/",
          "height": 297
        },
        "id": "m7Pr9NuXAt0F",
        "outputId": "93d89467-3cc6-4198-913c-77262ca3505d"
      },
      "execution_count": 24,
      "outputs": [
        {
          "output_type": "execute_result",
          "data": {
            "text/plain": [
              "<matplotlib.axes._subplots.AxesSubplot at 0x7f85efd410d0>"
            ]
          },
          "metadata": {},
          "execution_count": 24
        },
        {
          "output_type": "display_data",
          "data": {
            "text/plain": [
              "<Figure size 432x288 with 1 Axes>"
            ],
            "image/png": "[encoded data removed]"
          },
          "metadata": {}
        }
      ]
    },
    {
      "cell_type": "code",
      "source": [
        ""
      ],
      "metadata": {
        "id": "xj89hWTHB2Dd"
      },
      "execution_count": null,
      "outputs": []
    }
  ]
}